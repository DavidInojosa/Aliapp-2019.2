{
  "nbformat": 4,
  "nbformat_minor": 0,
  "metadata": {
    "colab": {
      "name": "AV2-Pratica3.ipynb",
      "provenance": [],
      "collapsed_sections": [],
      "toc_visible": true,
      "include_colab_link": true
    },
    "kernelspec": {
      "name": "python3",
      "display_name": "Python 3"
    },
    "language_info": {
      "name": "python"
    }
  },
  "cells": [
    {
      "cell_type": "markdown",
      "metadata": {
        "id": "view-in-github",
        "colab_type": "text"
      },
      "source": [
        "<a href=\"https://colab.research.google.com/github/DavidInojosa/Aliapp-2019.2/blob/master/AV2_Pratica3.ipynb\" target=\"_parent\"><img src=\"https://colab.research.google.com/assets/colab-badge.svg\" alt=\"Open In Colab\"/></a>"
      ]
    },
    {
      "cell_type": "markdown",
      "metadata": {
        "id": "TZYCaD9lJRBu"
      },
      "source": [
        "# Parte 1"
      ]
    },
    {
      "cell_type": "code",
      "metadata": {
        "colab": {
          "base_uri": "https://localhost:8080/"
        },
        "id": "dlFYmieHyU-V",
        "outputId": "0b9cba08-a15f-4c3f-be17-f84e8ec21fe3"
      },
      "source": [
        "import pandas as pd\n",
        "from google.colab import files\n",
        "import matplotlib.pyplot as plt\n",
        "from sklearn import preprocessing\n",
        "\n",
        "#Carregue a base sample_stocks.csv ou outra base do seu interesse (do Kaggle, por exemplo)\n",
        "data = pd.read_csv('sample_stocks.csv')\n",
        "\n",
        "#Visualize suas informações\n",
        "data.info()"
      ],
      "execution_count": null,
      "outputs": [
        {
          "output_type": "stream",
          "text": [
            "<class 'pandas.core.frame.DataFrame'>\n",
            "RangeIndex: 648 entries, 0 to 647\n",
            "Data columns (total 2 columns):\n",
            " #   Column         Non-Null Count  Dtype  \n",
            "---  ------         --------------  -----  \n",
            " 0   returns        648 non-null    int64  \n",
            " 1   dividendyield  648 non-null    float64\n",
            "dtypes: float64(1), int64(1)\n",
            "memory usage: 10.2 KB\n"
          ],
          "name": "stdout"
        }
      ]
    },
    {
      "cell_type": "code",
      "metadata": {
        "colab": {
          "base_uri": "https://localhost:8080/",
          "height": 1000
        },
        "id": "wiM4D_GR6vEC",
        "outputId": "ce73a67e-ddfa-4443-87d9-1d0553273371"
      },
      "source": [
        "data.head(50)"
      ],
      "execution_count": null,
      "outputs": [
        {
          "output_type": "execute_result",
          "data": {
            "text/html": [
              "<div>\n",
              "<style scoped>\n",
              "    .dataframe tbody tr th:only-of-type {\n",
              "        vertical-align: middle;\n",
              "    }\n",
              "\n",
              "    .dataframe tbody tr th {\n",
              "        vertical-align: top;\n",
              "    }\n",
              "\n",
              "    .dataframe thead th {\n",
              "        text-align: right;\n",
              "    }\n",
              "</style>\n",
              "<table border=\"1\" class=\"dataframe\">\n",
              "  <thead>\n",
              "    <tr style=\"text-align: right;\">\n",
              "      <th></th>\n",
              "      <th>returns</th>\n",
              "      <th>dividendyield</th>\n",
              "    </tr>\n",
              "  </thead>\n",
              "  <tbody>\n",
              "    <tr>\n",
              "      <th>0</th>\n",
              "      <td>-19</td>\n",
              "      <td>0.0</td>\n",
              "    </tr>\n",
              "    <tr>\n",
              "      <th>1</th>\n",
              "      <td>-13</td>\n",
              "      <td>0.0</td>\n",
              "    </tr>\n",
              "    <tr>\n",
              "      <th>2</th>\n",
              "      <td>-14</td>\n",
              "      <td>0.0</td>\n",
              "    </tr>\n",
              "    <tr>\n",
              "      <th>3</th>\n",
              "      <td>-9</td>\n",
              "      <td>0.0</td>\n",
              "    </tr>\n",
              "    <tr>\n",
              "      <th>4</th>\n",
              "      <td>-19</td>\n",
              "      <td>0.0</td>\n",
              "    </tr>\n",
              "    <tr>\n",
              "      <th>5</th>\n",
              "      <td>-10</td>\n",
              "      <td>0.0</td>\n",
              "    </tr>\n",
              "    <tr>\n",
              "      <th>6</th>\n",
              "      <td>-20</td>\n",
              "      <td>0.0</td>\n",
              "    </tr>\n",
              "    <tr>\n",
              "      <th>7</th>\n",
              "      <td>-11</td>\n",
              "      <td>0.0</td>\n",
              "    </tr>\n",
              "    <tr>\n",
              "      <th>8</th>\n",
              "      <td>-12</td>\n",
              "      <td>0.0</td>\n",
              "    </tr>\n",
              "    <tr>\n",
              "      <th>9</th>\n",
              "      <td>-10</td>\n",
              "      <td>0.0</td>\n",
              "    </tr>\n",
              "    <tr>\n",
              "      <th>10</th>\n",
              "      <td>-13</td>\n",
              "      <td>0.0</td>\n",
              "    </tr>\n",
              "    <tr>\n",
              "      <th>11</th>\n",
              "      <td>-14</td>\n",
              "      <td>0.0</td>\n",
              "    </tr>\n",
              "    <tr>\n",
              "      <th>12</th>\n",
              "      <td>-14</td>\n",
              "      <td>0.0</td>\n",
              "    </tr>\n",
              "    <tr>\n",
              "      <th>13</th>\n",
              "      <td>-12</td>\n",
              "      <td>0.0</td>\n",
              "    </tr>\n",
              "    <tr>\n",
              "      <th>14</th>\n",
              "      <td>-19</td>\n",
              "      <td>0.0</td>\n",
              "    </tr>\n",
              "    <tr>\n",
              "      <th>15</th>\n",
              "      <td>-10</td>\n",
              "      <td>0.0</td>\n",
              "    </tr>\n",
              "    <tr>\n",
              "      <th>16</th>\n",
              "      <td>-11</td>\n",
              "      <td>0.0</td>\n",
              "    </tr>\n",
              "    <tr>\n",
              "      <th>17</th>\n",
              "      <td>-11</td>\n",
              "      <td>0.0</td>\n",
              "    </tr>\n",
              "    <tr>\n",
              "      <th>18</th>\n",
              "      <td>-13</td>\n",
              "      <td>0.0</td>\n",
              "    </tr>\n",
              "    <tr>\n",
              "      <th>19</th>\n",
              "      <td>-11</td>\n",
              "      <td>0.0</td>\n",
              "    </tr>\n",
              "    <tr>\n",
              "      <th>20</th>\n",
              "      <td>-9</td>\n",
              "      <td>0.0</td>\n",
              "    </tr>\n",
              "    <tr>\n",
              "      <th>21</th>\n",
              "      <td>-16</td>\n",
              "      <td>0.0</td>\n",
              "    </tr>\n",
              "    <tr>\n",
              "      <th>22</th>\n",
              "      <td>-9</td>\n",
              "      <td>0.0</td>\n",
              "    </tr>\n",
              "    <tr>\n",
              "      <th>23</th>\n",
              "      <td>-18</td>\n",
              "      <td>0.0</td>\n",
              "    </tr>\n",
              "    <tr>\n",
              "      <th>24</th>\n",
              "      <td>-19</td>\n",
              "      <td>0.0</td>\n",
              "    </tr>\n",
              "    <tr>\n",
              "      <th>25</th>\n",
              "      <td>-19</td>\n",
              "      <td>0.1</td>\n",
              "    </tr>\n",
              "    <tr>\n",
              "      <th>26</th>\n",
              "      <td>-13</td>\n",
              "      <td>0.1</td>\n",
              "    </tr>\n",
              "    <tr>\n",
              "      <th>27</th>\n",
              "      <td>-12</td>\n",
              "      <td>0.1</td>\n",
              "    </tr>\n",
              "    <tr>\n",
              "      <th>28</th>\n",
              "      <td>-8</td>\n",
              "      <td>0.1</td>\n",
              "    </tr>\n",
              "    <tr>\n",
              "      <th>29</th>\n",
              "      <td>-17</td>\n",
              "      <td>0.1</td>\n",
              "    </tr>\n",
              "    <tr>\n",
              "      <th>30</th>\n",
              "      <td>-13</td>\n",
              "      <td>0.1</td>\n",
              "    </tr>\n",
              "    <tr>\n",
              "      <th>31</th>\n",
              "      <td>-9</td>\n",
              "      <td>0.1</td>\n",
              "    </tr>\n",
              "    <tr>\n",
              "      <th>32</th>\n",
              "      <td>-17</td>\n",
              "      <td>0.1</td>\n",
              "    </tr>\n",
              "    <tr>\n",
              "      <th>33</th>\n",
              "      <td>-8</td>\n",
              "      <td>0.1</td>\n",
              "    </tr>\n",
              "    <tr>\n",
              "      <th>34</th>\n",
              "      <td>-20</td>\n",
              "      <td>0.1</td>\n",
              "    </tr>\n",
              "    <tr>\n",
              "      <th>35</th>\n",
              "      <td>-17</td>\n",
              "      <td>0.1</td>\n",
              "    </tr>\n",
              "    <tr>\n",
              "      <th>36</th>\n",
              "      <td>-19</td>\n",
              "      <td>0.1</td>\n",
              "    </tr>\n",
              "    <tr>\n",
              "      <th>37</th>\n",
              "      <td>-11</td>\n",
              "      <td>0.1</td>\n",
              "    </tr>\n",
              "    <tr>\n",
              "      <th>38</th>\n",
              "      <td>-8</td>\n",
              "      <td>0.2</td>\n",
              "    </tr>\n",
              "    <tr>\n",
              "      <th>39</th>\n",
              "      <td>-13</td>\n",
              "      <td>0.2</td>\n",
              "    </tr>\n",
              "    <tr>\n",
              "      <th>40</th>\n",
              "      <td>-17</td>\n",
              "      <td>0.2</td>\n",
              "    </tr>\n",
              "    <tr>\n",
              "      <th>41</th>\n",
              "      <td>-8</td>\n",
              "      <td>0.2</td>\n",
              "    </tr>\n",
              "    <tr>\n",
              "      <th>42</th>\n",
              "      <td>-8</td>\n",
              "      <td>0.2</td>\n",
              "    </tr>\n",
              "    <tr>\n",
              "      <th>43</th>\n",
              "      <td>-20</td>\n",
              "      <td>0.2</td>\n",
              "    </tr>\n",
              "    <tr>\n",
              "      <th>44</th>\n",
              "      <td>-13</td>\n",
              "      <td>0.2</td>\n",
              "    </tr>\n",
              "    <tr>\n",
              "      <th>45</th>\n",
              "      <td>-18</td>\n",
              "      <td>0.2</td>\n",
              "    </tr>\n",
              "    <tr>\n",
              "      <th>46</th>\n",
              "      <td>-16</td>\n",
              "      <td>0.2</td>\n",
              "    </tr>\n",
              "    <tr>\n",
              "      <th>47</th>\n",
              "      <td>-11</td>\n",
              "      <td>0.2</td>\n",
              "    </tr>\n",
              "    <tr>\n",
              "      <th>48</th>\n",
              "      <td>-11</td>\n",
              "      <td>0.2</td>\n",
              "    </tr>\n",
              "    <tr>\n",
              "      <th>49</th>\n",
              "      <td>-10</td>\n",
              "      <td>0.2</td>\n",
              "    </tr>\n",
              "  </tbody>\n",
              "</table>\n",
              "</div>"
            ],
            "text/plain": [
              "    returns  dividendyield\n",
              "0       -19            0.0\n",
              "1       -13            0.0\n",
              "2       -14            0.0\n",
              "3        -9            0.0\n",
              "4       -19            0.0\n",
              "5       -10            0.0\n",
              "6       -20            0.0\n",
              "7       -11            0.0\n",
              "8       -12            0.0\n",
              "9       -10            0.0\n",
              "10      -13            0.0\n",
              "11      -14            0.0\n",
              "12      -14            0.0\n",
              "13      -12            0.0\n",
              "14      -19            0.0\n",
              "15      -10            0.0\n",
              "16      -11            0.0\n",
              "17      -11            0.0\n",
              "18      -13            0.0\n",
              "19      -11            0.0\n",
              "20       -9            0.0\n",
              "21      -16            0.0\n",
              "22       -9            0.0\n",
              "23      -18            0.0\n",
              "24      -19            0.0\n",
              "25      -19            0.1\n",
              "26      -13            0.1\n",
              "27      -12            0.1\n",
              "28       -8            0.1\n",
              "29      -17            0.1\n",
              "30      -13            0.1\n",
              "31       -9            0.1\n",
              "32      -17            0.1\n",
              "33       -8            0.1\n",
              "34      -20            0.1\n",
              "35      -17            0.1\n",
              "36      -19            0.1\n",
              "37      -11            0.1\n",
              "38       -8            0.2\n",
              "39      -13            0.2\n",
              "40      -17            0.2\n",
              "41       -8            0.2\n",
              "42       -8            0.2\n",
              "43      -20            0.2\n",
              "44      -13            0.2\n",
              "45      -18            0.2\n",
              "46      -16            0.2\n",
              "47      -11            0.2\n",
              "48      -11            0.2\n",
              "49      -10            0.2"
            ]
          },
          "metadata": {
            "tags": []
          },
          "execution_count": 3
        }
      ]
    },
    {
      "cell_type": "markdown",
      "metadata": {
        "id": "bQrCsOQMUGts"
      },
      "source": [
        "##**Plote a dispersão de returns vs. dividendyield**"
      ]
    },
    {
      "cell_type": "code",
      "metadata": {
        "colab": {
          "base_uri": "https://localhost:8080/",
          "height": 265
        },
        "id": "kc-9I3cA1HfF",
        "outputId": "20e586c7-a0fb-4c2c-f973-b391ff5605b5"
      },
      "source": [
        "x = data['dividendyield']\n",
        "y = data['returns']\n",
        "\n",
        "plt.scatter(x, y)\n",
        "plt.show()"
      ],
      "execution_count": null,
      "outputs": [
        {
          "output_type": "display_data",
          "data": {
            "image/png": "[encoded data removed]",
            "text/plain": [
              "<Figure size 432x288 with 1 Axes>"
            ]
          },
          "metadata": {
            "tags": [],
            "needs_background": "light"
          }
        }
      ]
    },
    {
      "cell_type": "code",
      "metadata": {
        "colab": {
          "base_uri": "https://localhost:8080/",
          "height": 282
        },
        "id": "b0R14XAQ2qhh",
        "outputId": "f6cca9f9-3073-45a2-a20c-ce8365548f4b"
      },
      "source": [
        "import matplotlib.pyplot as plt\n",
        "import seaborn as sns\n",
        "\n",
        "# Normalize os dados\n",
        "data.drop_duplicates(inplace=True)\n",
        "scaler = preprocessing.StandardScaler()\n",
        "X = scaler.fit_transform(data)\n",
        "\n",
        "plt.scatter(X[:,0], X[:,1])"
      ],
      "execution_count": null,
      "outputs": [
        {
          "output_type": "execute_result",
          "data": {
            "text/plain": [
              "<matplotlib.collections.PathCollection at 0x7f687663d790>"
            ]
          },
          "metadata": {
            "tags": []
          },
          "execution_count": 5
        },
        {
          "output_type": "display_data",
          "data": {
            "image/png": "[encoded data removed]",
            "text/plain": [
              "<Figure size 432x288 with 1 Axes>"
            ]
          },
          "metadata": {
            "tags": [],
            "needs_background": "light"
          }
        }
      ]
    },
    {
      "cell_type": "markdown",
      "metadata": {
        "id": "pPUFB8dBP3Mk"
      },
      "source": [
        "##**Crie e treine o KMeans com um valor de k que achar válido**\n",
        "####**k == 5**"
      ]
    },
    {
      "cell_type": "code",
      "metadata": {
        "id": "1BeX_qbMBamC"
      },
      "source": [
        "#Crie e treine o KMeans com um valor de k que achar válido\n",
        "from sklearn.cluster import KMeans\n",
        "\n",
        "toElbow = []\n",
        "#Depois de varios testes ficou decidido que o valor de k será 5 para melhor visualização\n",
        "for i in range(1, 6):\n",
        "    kmeans = KMeans(n_clusters = i)\n",
        "    kmeans.fit(X)\n",
        "    toElbow.append(kmeans.inertia_)"
      ],
      "execution_count": null,
      "outputs": []
    },
    {
      "cell_type": "code",
      "metadata": {
        "colab": {
          "base_uri": "https://localhost:8080/",
          "height": 282
        },
        "id": "gK3l_fuZCkjS",
        "outputId": "9dde50c6-9616-444a-b107-f37bdd3603dc"
      },
      "source": [
        "#Plote a dispersão juntamente com os kmeans.cluster_centers_\n",
        "centers = kmeans.cluster_centers_\n",
        "plt.scatter(X[:,0], X[:,1])\n",
        "plt.scatter(centers[:,0], centers[:,1], marker='D', c='r', s=20)"
      ],
      "execution_count": null,
      "outputs": [
        {
          "output_type": "execute_result",
          "data": {
            "text/plain": [
              "<matplotlib.collections.PathCollection at 0x7f686906ee50>"
            ]
          },
          "metadata": {
            "tags": []
          },
          "execution_count": 7
        },
        {
          "output_type": "display_data",
          "data": {
            "image/png": "[encoded data removed]",
            "text/plain": [
              "<Figure size 432x288 with 1 Axes>"
            ]
          },
          "metadata": {
            "tags": [],
            "needs_background": "light"
          }
        }
      ]
    },
    {
      "cell_type": "code",
      "metadata": {
        "colab": {
          "base_uri": "https://localhost:8080/",
          "height": 614
        },
        "id": "o4noLiH3LLHQ",
        "outputId": "99f62abd-5306-4f0d-a600-dcdf623603c7"
      },
      "source": [
        "y_kmeans = kmeans.fit_predict(X)\n",
        "# Visualising the clusters\n",
        "plt.figure(figsize=(12,6))\n",
        "sns.scatterplot(X[y_kmeans == 0, 0], X[y_kmeans == 0, 1], color = 'yellow', label = 'Cluster 1',s=50)\n",
        "sns.scatterplot(X[y_kmeans == 1, 0], X[y_kmeans == 1, 1], color = 'blue', label = 'Cluster 2',s=50)\n",
        "sns.scatterplot(X[y_kmeans == 2, 0], X[y_kmeans == 2, 1], color = 'green', label = 'Cluster 3',s=50)\n",
        "sns.scatterplot(X[y_kmeans == 3, 0], X[y_kmeans == 3, 1], color = 'grey', label = 'Cluster 4',s=50)\n",
        "sns.scatterplot(X[y_kmeans == 4, 0], X[y_kmeans == 4, 1], color = 'orange', label = 'Cluster 5',s=50)\n",
        "sns.scatterplot(kmeans.cluster_centers_[:, 0], kmeans.cluster_centers_[:, 1], color = 'red', \n",
        "                label = 'Centroids',s=300,marker=',')\n",
        "plt.grid(False)\n",
        "plt.title('Visualização após kmeans')\n",
        "plt.legend()\n",
        "plt.show()"
      ],
      "execution_count": null,
      "outputs": [
        {
          "output_type": "stream",
          "text": [
            "/usr/local/lib/python3.7/dist-packages/seaborn/_decorators.py:43: FutureWarning: Pass the following variables as keyword args: x, y. From version 0.12, the only valid positional argument will be `data`, and passing other arguments without an explicit keyword will result in an error or misinterpretation.\n",
            "  FutureWarning\n",
            "/usr/local/lib/python3.7/dist-packages/seaborn/_decorators.py:43: FutureWarning: Pass the following variables as keyword args: x, y. From version 0.12, the only valid positional argument will be `data`, and passing other arguments without an explicit keyword will result in an error or misinterpretation.\n",
            "  FutureWarning\n",
            "/usr/local/lib/python3.7/dist-packages/seaborn/_decorators.py:43: FutureWarning: Pass the following variables as keyword args: x, y. From version 0.12, the only valid positional argument will be `data`, and passing other arguments without an explicit keyword will result in an error or misinterpretation.\n",
            "  FutureWarning\n",
            "/usr/local/lib/python3.7/dist-packages/seaborn/_decorators.py:43: FutureWarning: Pass the following variables as keyword args: x, y. From version 0.12, the only valid positional argument will be `data`, and passing other arguments without an explicit keyword will result in an error or misinterpretation.\n",
            "  FutureWarning\n",
            "/usr/local/lib/python3.7/dist-packages/seaborn/_decorators.py:43: FutureWarning: Pass the following variables as keyword args: x, y. From version 0.12, the only valid positional argument will be `data`, and passing other arguments without an explicit keyword will result in an error or misinterpretation.\n",
            "  FutureWarning\n",
            "/usr/local/lib/python3.7/dist-packages/seaborn/_decorators.py:43: FutureWarning: Pass the following variables as keyword args: x, y. From version 0.12, the only valid positional argument will be `data`, and passing other arguments without an explicit keyword will result in an error or misinterpretation.\n",
            "  FutureWarning\n"
          ],
          "name": "stderr"
        },
        {
          "output_type": "display_data",
          "data": {
            "image/png": "[encoded data removed]",
            "text/plain": [
              "<Figure size 864x432 with 1 Axes>"
            ]
          },
          "metadata": {
            "tags": [],
            "needs_background": "light"
          }
        }
      ]
    },
    {
      "cell_type": "code",
      "metadata": {
        "colab": {
          "base_uri": "https://localhost:8080/",
          "height": 349
        },
        "id": "hDL1ywsjDidR",
        "outputId": "99c598b0-13eb-444b-826d-ae7ec860ed53"
      },
      "source": [
        "#Analise o valor de K utilizando o método Elbow baseado na inércia\n",
        "\n",
        "sns.lineplot(range(1, 6), toElbow,marker='o',color='red')\n",
        "plt.title('Análise utilizando método Elbow baseado na Inercia')\n",
        "plt.xlabel('N. Clusters')\n",
        "plt.ylabel('Inércia')\n",
        "plt.show()\n"
      ],
      "execution_count": null,
      "outputs": [
        {
          "output_type": "stream",
          "text": [
            "/usr/local/lib/python3.7/dist-packages/seaborn/_decorators.py:43: FutureWarning: Pass the following variables as keyword args: x, y. From version 0.12, the only valid positional argument will be `data`, and passing other arguments without an explicit keyword will result in an error or misinterpretation.\n",
            "  FutureWarning\n"
          ],
          "name": "stderr"
        },
        {
          "output_type": "display_data",
          "data": {
            "image/png": "[encoded data removed]",
            "text/plain": [
              "<Figure size 432x288 with 1 Axes>"
            ]
          },
          "metadata": {
            "tags": [],
            "needs_background": "light"
          }
        }
      ]
    },
    {
      "cell_type": "markdown",
      "metadata": {
        "id": "C98HdJEBQ27J"
      },
      "source": [
        "###**Apos a analise vimos que o k mais eficiente sera:**\n",
        "####**K == 3**"
      ]
    },
    {
      "cell_type": "code",
      "metadata": {
        "id": "sEB6ylDrQbZH"
      },
      "source": [
        "toElbow = []\n",
        "\n",
        "for i in range(1, 4):\n",
        "    kmeans = KMeans(n_clusters = i)\n",
        "    kmeans.fit(X)\n",
        "    toElbow.append(kmeans.inertia_)"
      ],
      "execution_count": null,
      "outputs": []
    },
    {
      "cell_type": "code",
      "metadata": {
        "colab": {
          "base_uri": "https://localhost:8080/",
          "height": 546
        },
        "id": "g_wEFAHCQOrn",
        "outputId": "b6665ba5-5c37-4107-8c75-b2cbc07facae"
      },
      "source": [
        "y_kmeans = kmeans.fit_predict(X)\n",
        "# Visualising the clusters\n",
        "plt.figure(figsize=(12,6))\n",
        "sns.scatterplot(X[y_kmeans == 0, 0], X[y_kmeans == 0, 1], color = 'yellow', label = 'Cluster 1',s=50)\n",
        "sns.scatterplot(X[y_kmeans == 1, 0], X[y_kmeans == 1, 1], color = 'blue', label = 'Cluster 2',s=50)\n",
        "sns.scatterplot(X[y_kmeans == 2, 0], X[y_kmeans == 2, 1], color = 'green', label = 'Cluster 3',s=50)\n",
        "sns.scatterplot(kmeans.cluster_centers_[:, 0], kmeans.cluster_centers_[:, 1], color = 'red', \n",
        "                label = 'Centroids',s=300,marker=',')\n",
        "plt.grid(False)\n",
        "plt.title('Visualização após kmeans')\n",
        "plt.legend()\n",
        "plt.show()"
      ],
      "execution_count": null,
      "outputs": [
        {
          "output_type": "stream",
          "text": [
            "/usr/local/lib/python3.7/dist-packages/seaborn/_decorators.py:43: FutureWarning: Pass the following variables as keyword args: x, y. From version 0.12, the only valid positional argument will be `data`, and passing other arguments without an explicit keyword will result in an error or misinterpretation.\n",
            "  FutureWarning\n",
            "/usr/local/lib/python3.7/dist-packages/seaborn/_decorators.py:43: FutureWarning: Pass the following variables as keyword args: x, y. From version 0.12, the only valid positional argument will be `data`, and passing other arguments without an explicit keyword will result in an error or misinterpretation.\n",
            "  FutureWarning\n",
            "/usr/local/lib/python3.7/dist-packages/seaborn/_decorators.py:43: FutureWarning: Pass the following variables as keyword args: x, y. From version 0.12, the only valid positional argument will be `data`, and passing other arguments without an explicit keyword will result in an error or misinterpretation.\n",
            "  FutureWarning\n",
            "/usr/local/lib/python3.7/dist-packages/seaborn/_decorators.py:43: FutureWarning: Pass the following variables as keyword args: x, y. From version 0.12, the only valid positional argument will be `data`, and passing other arguments without an explicit keyword will result in an error or misinterpretation.\n",
            "  FutureWarning\n"
          ],
          "name": "stderr"
        },
        {
          "output_type": "display_data",
          "data": {
            "image/png": "[encoded data removed]",
            "text/plain": [
              "<Figure size 864x432 with 1 Axes>"
            ]
          },
          "metadata": {
            "tags": [],
            "needs_background": "light"
          }
        }
      ]
    },
    {
      "cell_type": "code",
      "metadata": {
        "colab": {
          "base_uri": "https://localhost:8080/",
          "height": 349
        },
        "id": "5P2xnmmxO5mo",
        "outputId": "25306c76-fc17-4d35-dabe-9876a96b27ac"
      },
      "source": [
        "#Analise o valor de K utilizando o método Elbow baseado na inércia\n",
        "\n",
        "sns.lineplot(range(1, 4), toElbow,marker='o',color='red')\n",
        "plt.title('Análise utilizando método Elbow baseado na Inercia')\n",
        "plt.xlabel('N. Clusters')\n",
        "plt.ylabel('Inércia')\n",
        "plt.show()\n"
      ],
      "execution_count": null,
      "outputs": [
        {
          "output_type": "stream",
          "text": [
            "/usr/local/lib/python3.7/dist-packages/seaborn/_decorators.py:43: FutureWarning: Pass the following variables as keyword args: x, y. From version 0.12, the only valid positional argument will be `data`, and passing other arguments without an explicit keyword will result in an error or misinterpretation.\n",
            "  FutureWarning\n"
          ],
          "name": "stderr"
        },
        {
          "output_type": "display_data",
          "data": {
            "image/png": "[encoded data removed]",
            "text/plain": [
              "<Figure size 432x288 with 1 Axes>"
            ]
          },
          "metadata": {
            "tags": [],
            "needs_background": "light"
          }
        }
      ]
    },
    {
      "cell_type": "markdown",
      "metadata": {
        "id": "vxHGcdJxJxVm"
      },
      "source": [
        "##**Parte 2**"
      ]
    },
    {
      "cell_type": "code",
      "metadata": {
        "colab": {
          "base_uri": "https://localhost:8080/"
        },
        "id": "Nsq_YyfJJm9n",
        "outputId": "447c9007-24bc-4435-e00a-4d9c903d6755"
      },
      "source": [
        "#Implemente Clustering Hierárquico\n",
        "from sklearn.cluster import AgglomerativeClustering\n",
        "from scipy.cluster.hierarchy import dendrogram\n",
        "import numpy as np\n",
        "\n",
        "model = AgglomerativeClustering(distance_threshold=0, n_clusters=None, linkage='complete').fit(X)\n",
        "print('Lista de filhos de cada nó', model.children_)\n"
      ],
      "execution_count": null,
      "outputs": [
        {
          "output_type": "stream",
          "text": [
            "Lista de filhos de cada nó [[284 290]\n",
            " [  0   5]\n",
            " [  1   2]\n",
            " [ 11  12]\n",
            " [  6   7]\n",
            " [ 19  26]\n",
            " [ 24  25]\n",
            " [  3   4]\n",
            " [ 27  28]\n",
            " [ 10  16]\n",
            " [ 20  22]\n",
            " [ 29  34]\n",
            " [ 33  37]\n",
            " [ 38  40]\n",
            " [ 30  35]\n",
            " [ 42  44]\n",
            " [ 49  51]\n",
            " [ 59  60]\n",
            " [ 43  46]\n",
            " [ 50  52]\n",
            " [ 57  65]\n",
            " [ 48  54]\n",
            " [ 47  55]\n",
            " [ 56  62]\n",
            " [ 66  73]\n",
            " [ 85  87]\n",
            " [ 70  71]\n",
            " [ 77  82]\n",
            " [ 75  81]\n",
            " [ 67  69]\n",
            " [ 89  90]\n",
            " [ 68  72]\n",
            " [ 79  80]\n",
            " [ 76  83]\n",
            " [ 84  86]\n",
            " [104 106]\n",
            " [ 96  97]\n",
            " [ 93  95]\n",
            " [ 98 101]\n",
            " [118 119]\n",
            " [128 131]\n",
            " [125 129]\n",
            " [135 138]\n",
            " [145 149]\n",
            " [151 153]\n",
            " [170 172]\n",
            " [163 165]\n",
            " [176 183]\n",
            " [157 160]\n",
            " [303 304]\n",
            " [136 139]\n",
            " [158 161]\n",
            " [162 171]\n",
            " [174 175]\n",
            " [179 181]\n",
            " [184 192]\n",
            " [185 188]\n",
            " [186 189]\n",
            " [187 190]\n",
            " [197 199]\n",
            " [194 196]\n",
            " [193 204]\n",
            " [205 210]\n",
            " [219 224]\n",
            " [206 207]\n",
            " [214 220]\n",
            " [200 203]\n",
            " [209 212]\n",
            " [216 222]\n",
            " [215 223]\n",
            " [226 230]\n",
            " [235 240]\n",
            " [236 239]\n",
            " [246 247]\n",
            " [232 233]\n",
            " [238 242]\n",
            " [245 252]\n",
            " [195 202]\n",
            " [227 229]\n",
            " [217 221]\n",
            " [243 248]\n",
            " [244 250]\n",
            " [251 253]\n",
            " [255 258]\n",
            " [265 266]\n",
            " [256 259]\n",
            " [262 272]\n",
            " [254 257]\n",
            " [268 271]\n",
            " [276 279]\n",
            " [275 278]\n",
            " [277 283]\n",
            " [280 281]\n",
            " [263 270]\n",
            " [273 282]\n",
            " [318 319]\n",
            " [286 287]\n",
            " [288 289]\n",
            " [ 99 102]\n",
            " [110 115]\n",
            " [116 124]\n",
            " [127 133]\n",
            " [137 142]\n",
            " [152 154]\n",
            " [164 167]\n",
            " [111 113]\n",
            " [140 141]\n",
            " [144 147]\n",
            " [168 169]\n",
            " [180 182]\n",
            " [308 313]\n",
            " [295 297]\n",
            " [117 120]\n",
            " [126 132]\n",
            " [146 150]\n",
            " [ 13  15]\n",
            " [ 18  32]\n",
            " [211 225]\n",
            " [260 264]\n",
            " [109 121]\n",
            " [108 123]\n",
            " [ 63  74]\n",
            " [177 310]\n",
            " [122 134]\n",
            " [103 112]\n",
            " [148 159]\n",
            " [328 334]\n",
            " [ 36 333]\n",
            " [ 23  31]\n",
            " [107 362]\n",
            " [422 423]\n",
            " [156 368]\n",
            " [166 367]\n",
            " [369 371]\n",
            " [426 427]\n",
            " [155 431]\n",
            " [374 375]\n",
            " [208 388]\n",
            " [398 399]\n",
            " [213 402]\n",
            " [241 405]\n",
            " [394 403]\n",
            " [406 407]\n",
            " [408 409]\n",
            " [261 411]\n",
            " [269 410]\n",
            " [237 404]\n",
            " [ 78 348]\n",
            " [ 88 351]\n",
            " [353 355]\n",
            " [379 382]\n",
            " [381 400]\n",
            " [ 17 327]\n",
            " [324 332]\n",
            " [  8  14]\n",
            " [ 39 337]\n",
            " [ 53 343]\n",
            " [ 58 342]\n",
            " [344 346]\n",
            " [ 64 349]\n",
            " [ 61 354]\n",
            " [393 395]\n",
            " [234 401]\n",
            " [ 91 358]\n",
            " [360 361]\n",
            " [100 359]\n",
            " [ 92 421]\n",
            " [ 94 105]\n",
            " [364 365]\n",
            " [173 312]\n",
            " [424 425]\n",
            " [130 429]\n",
            " [435 436]\n",
            " [338 339]\n",
            " [ 45 345]\n",
            " [228 391]\n",
            " [231 386]\n",
            " [383 385]\n",
            " [384 387]\n",
            " [198 390]\n",
            " [274 416]\n",
            " [  9 477]\n",
            " [218 392]\n",
            " [267 503]\n",
            " [309 314]\n",
            " [285 291]\n",
            " [114 428]\n",
            " [178 376]\n",
            " [329 331]\n",
            " [443 452]\n",
            " [454 455]\n",
            " [249 464]\n",
            " [442 453]\n",
            " [356 357]\n",
            " [378 389]\n",
            " [191 473]\n",
            " [325 326]\n",
            " [335 336]\n",
            " [340 347]\n",
            " [479 480]\n",
            " [370 445]\n",
            " [363 494]\n",
            " [432 433]\n",
            " [330 438]\n",
            " [201 500]\n",
            " [ 41 439]\n",
            " [450 478]\n",
            " [ 21 341]\n",
            " [397 461]\n",
            " [352 471]\n",
            " [446 509]\n",
            " [143 457]\n",
            " [430 458]\n",
            " [377 456]\n",
            " [296 472]\n",
            " [396 466]\n",
            " [412 468]\n",
            " [414 467]\n",
            " [415 465]\n",
            " [417 441]\n",
            " [511 520]\n",
            " [321 418]\n",
            " [294 298]\n",
            " [366 437]\n",
            " [316 317]\n",
            " [448 459]\n",
            " [444 481]\n",
            " [460 501]\n",
            " [440 527]\n",
            " [372 447]\n",
            " [491 546]\n",
            " [373 495]\n",
            " [485 505]\n",
            " [484 499]\n",
            " [451 529]\n",
            " [350 470]\n",
            " [475 519]\n",
            " [482 483]\n",
            " [487 488]\n",
            " [489 490]\n",
            " [413 540]\n",
            " [498 502]\n",
            " [517 550]\n",
            " [462 474]\n",
            " [496 521]\n",
            " [534 535]\n",
            " [539 541]\n",
            " [299 300]\n",
            " [510 525]\n",
            " [515 524]\n",
            " [513 523]\n",
            " [449 497]\n",
            " [463 514]\n",
            " [516 537]\n",
            " [476 504]\n",
            " [486 552]\n",
            " [528 543]\n",
            " [506 542]\n",
            " [493 533]\n",
            " [492 536]\n",
            " [380 565]\n",
            " [538 563]\n",
            " [531 556]\n",
            " [522 532]\n",
            " [323 419]\n",
            " [306 307]\n",
            " [526 579]\n",
            " [530 557]\n",
            " [512 561]\n",
            " [518 566]\n",
            " [469 555]\n",
            " [560 576]\n",
            " [554 581]\n",
            " [548 571]\n",
            " [558 567]\n",
            " [434 545]\n",
            " [568 582]\n",
            " [577 590]\n",
            " [551 585]\n",
            " [564 575]\n",
            " [559 574]\n",
            " [549 594]\n",
            " [562 572]\n",
            " [315 507]\n",
            " [420 508]\n",
            " [586 597]\n",
            " [553 573]\n",
            " [569 584]\n",
            " [589 603]\n",
            " [593 602]\n",
            " [302 578]\n",
            " [595 605]\n",
            " [583 601]\n",
            " [596 599]\n",
            " [592 612]\n",
            " [591 614]\n",
            " [580 617]\n",
            " [600 608]\n",
            " [610 615]\n",
            " [301 311]\n",
            " [609 616]\n",
            " [320 547]\n",
            " [604 611]\n",
            " [293 570]\n",
            " [292 598]\n",
            " [618 623]\n",
            " [620 625]\n",
            " [619 621]\n",
            " [587 607]\n",
            " [606 622]\n",
            " [322 588]\n",
            " [613 627]\n",
            " [544 633]\n",
            " [305 626]\n",
            " [624 630]\n",
            " [629 636]\n",
            " [631 634]\n",
            " [632 637]\n",
            " [628 639]\n",
            " [638 641]\n",
            " [635 642]\n",
            " [640 643]]\n"
          ],
          "name": "stdout"
        }
      ]
    },
    {
      "cell_type": "markdown",
      "metadata": {
        "id": "8gLu7CfGS8Gi"
      },
      "source": [
        "##**Visualize o dendograma**"
      ]
    },
    {
      "cell_type": "code",
      "metadata": {
        "colab": {
          "base_uri": "https://localhost:8080/",
          "height": 402
        },
        "id": "CjnjHsH7R6LM",
        "outputId": "a3fad2eb-13f3-47fb-fd03-92a52b758c2d"
      },
      "source": [
        "\n",
        "\n",
        "def plot_dendrogram(model, **kwargs):\n",
        "\n",
        "    counts = np.zeros(model.children_.shape[0])\n",
        "    n_samples = len(model.labels_)\n",
        "    for i, merge in enumerate(model.children_):\n",
        "        current_count = 0\n",
        "        for child_idx in merge:\n",
        "            if child_idx < n_samples:\n",
        "                current_count += 1\n",
        "            else:\n",
        "                current_count += counts[child_idx - n_samples]\n",
        "        counts[i] = current_count\n",
        "\n",
        "    linkage_matrix = np.column_stack([model.children_, model.distances_, counts]).astype(float)\n",
        "\n",
        "    dendrogram(linkage_matrix, **kwargs)\n",
        "\n",
        "plt.figure(figsize=(18,6))\n",
        "plt.title('Dendograma')\n",
        "plot_dendrogram(model, truncate_mode='level', p=4)\n",
        "plt.show()"
      ],
      "execution_count": null,
      "outputs": [
        {
          "output_type": "display_data",
          "data": {
            "image/png": "[encoded data removed]",
            "text/plain": [
              "<Figure size 1296x432 with 1 Axes>"
            ]
          },
          "metadata": {
            "tags": [],
            "needs_background": "light"
          }
        }
      ]
    }
  ]
}